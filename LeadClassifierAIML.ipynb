{
 "cells": [
  {
   "cell_type": "markdown",
   "metadata": {},
   "source": [
    "# Capstone Project 20.1: Initial Report and Exploratory Data Analysis (EDA)\n",
    "\n",
    "This project aims to predict sales outcomes by analyzing various data sources, such as connections, contact lists, social media traffic, and website traffic. By leveraging these inputs, the model will identify key features and patterns that influence sales performance. The goal is to enhance decision-making processes for businesses by providing insights into the most effective strategies for approaching potential clients.\n",
    "\n"
   ]
  },
  {
   "cell_type": "markdown",
   "metadata": {},
   "source": [
    "# Rationale\n",
    "Understanding the factors that contribute to successful sales is crucial for optimizing business strategies. By analyzing various data points related to social and professional networks, this project seeks to uncover the key drivers of sales success. This knowledge will allow businesses to allocate resources more effectively, minimize risks, and capitalize on opportunities, ultimately leading to increased revenue."
   ]
  },
  {
   "cell_type": "markdown",
   "metadata": {},
   "source": [
    "# Research Question\n",
    "What are the most significant factors from social and professional networks that predict sales success?"
   ]
  },
  {
   "cell_type": "markdown",
   "metadata": {},
   "source": [
    "# Data Sources\n",
    "Connections: Information about personal and professional contacts.\n",
    "\n",
    "Contact List: Detailed contact information including email, phone, and how long the person has been known.\n",
    "\n",
    "Social Media Traffic: Data on engagement and reach across various social media platforms.\n",
    "\n",
    "Website Traffic: Metrics related to visits, interactions, and conversions on the company’s website.\n"
   ]
  },
  {
   "cell_type": "markdown",
   "metadata": {},
   "source": [
    "# Methodology\n",
    "Data Preprocessing: Clean and organize data from various sources to create a comprehensive dataset.\n",
    "\n",
    "Feature Engineering: Generate new features based on existing data, such as interaction frequency or decision-making power.\n",
    "\n",
    "Model Comparison: Compare multiple classification models (e.g., Random Forest, SVM, XGBoost) to determine which provides the best performance.\n",
    "\n",
    "Hyperparameter Tuning: Optimize model parameters to improve accuracy.\n",
    "\n",
    "Feature Importance Analysis: Identify the most critical features contributing to the model’s predictions.\n",
    "\n",
    "Visualization: Create plots to visualize model performance, feature importance, and predictions.\n"
   ]
  },
  {
   "cell_type": "markdown",
   "metadata": {},
   "source": [
    "### Load the dataset\n",
    "\n",
    "Use pandas to read in the dataset `Connections.csv` and assign to a meaningful variable name."
   ]
  },
  {
   "cell_type": "code",
   "execution_count": 5,
   "metadata": {},
   "outputs": [],
   "source": [
    "import pandas as pd\n",
    "import numpy as np\n",
    "from sklearn.model_selection import train_test_split, RandomizedSearchCV\n",
    "from sklearn.ensemble import RandomForestClassifier\n",
    "from xgboost import XGBClassifier\n",
    "from sklearn.metrics import classification_report, accuracy_score, confusion_matrix, roc_curve, roc_auc_score\n",
    "import matplotlib.pyplot as plt\n",
    "import seaborn as sns\n",
    "from sklearn.preprocessing import LabelEncoder\n",
    "import joblib"
   ]
  },
  {
   "cell_type": "code",
   "execution_count": 22,
   "metadata": {},
   "outputs": [],
   "source": [
    "# Load your dataset\n",
    "data = pd.read_csv('data/Connections.csv')"
   ]
  },
  {
   "cell_type": "code",
   "execution_count": 9,
   "metadata": {},
   "outputs": [
    {
     "data": {
      "text/html": [
       "<div>\n",
       "<style scoped>\n",
       "    .dataframe tbody tr th:only-of-type {\n",
       "        vertical-align: middle;\n",
       "    }\n",
       "\n",
       "    .dataframe tbody tr th {\n",
       "        vertical-align: top;\n",
       "    }\n",
       "\n",
       "    .dataframe thead th {\n",
       "        text-align: right;\n",
       "    }\n",
       "</style>\n",
       "<table border=\"1\" class=\"dataframe\">\n",
       "  <thead>\n",
       "    <tr style=\"text-align: right;\">\n",
       "      <th></th>\n",
       "      <th>First_Name</th>\n",
       "      <th>Last_Name</th>\n",
       "      <th>URL</th>\n",
       "      <th>Email_Address</th>\n",
       "      <th>Company</th>\n",
       "      <th>Position</th>\n",
       "      <th>DecisionMaker</th>\n",
       "      <th>KnownSince</th>\n",
       "      <th>KnownDays</th>\n",
       "      <th>Output_Target</th>\n",
       "    </tr>\n",
       "  </thead>\n",
       "  <tbody>\n",
       "    <tr>\n",
       "      <th>0</th>\n",
       "      <td>Viktor</td>\n",
       "      <td>Ilovski</td>\n",
       "      <td>https://www.linkedin.com/in/viktor-ilovski-9ba...</td>\n",
       "      <td>NaN</td>\n",
       "      <td>Guardz</td>\n",
       "      <td>Cybersecurity Solutions Consultant</td>\n",
       "      <td>False</td>\n",
       "      <td>26-Jan-24</td>\n",
       "      <td>206</td>\n",
       "      <td>n</td>\n",
       "    </tr>\n",
       "    <tr>\n",
       "      <th>1</th>\n",
       "      <td>Tazeem</td>\n",
       "      <td>Nasreen</td>\n",
       "      <td>https://www.linkedin.com/in/tazeem-nasreen-sho...</td>\n",
       "      <td>NaN</td>\n",
       "      <td>MULTIINSIGHT</td>\n",
       "      <td>Chief Executive Officer</td>\n",
       "      <td>True</td>\n",
       "      <td>21-Dec-23</td>\n",
       "      <td>242</td>\n",
       "      <td>n</td>\n",
       "    </tr>\n",
       "    <tr>\n",
       "      <th>2</th>\n",
       "      <td>Mohamad</td>\n",
       "      <td>Nohayli</td>\n",
       "      <td>https://www.linkedin.com/in/mohamadnohayli</td>\n",
       "      <td>NaN</td>\n",
       "      <td>BCE (Buildingcodexperts)</td>\n",
       "      <td>Managing Partner</td>\n",
       "      <td>False</td>\n",
       "      <td>14-Dec-23</td>\n",
       "      <td>249</td>\n",
       "      <td>n</td>\n",
       "    </tr>\n",
       "    <tr>\n",
       "      <th>3</th>\n",
       "      <td>Ryan</td>\n",
       "      <td>Castle</td>\n",
       "      <td>https://www.linkedin.com/in/ryanecastle</td>\n",
       "      <td>NaN</td>\n",
       "      <td>Conduit Security</td>\n",
       "      <td>Founder &amp; CEO</td>\n",
       "      <td>True</td>\n",
       "      <td>19-Oct-23</td>\n",
       "      <td>305</td>\n",
       "      <td>n</td>\n",
       "    </tr>\n",
       "    <tr>\n",
       "      <th>4</th>\n",
       "      <td>Parham</td>\n",
       "      <td>Zomorodi</td>\n",
       "      <td>https://www.linkedin.com/in/parham-zomorodi-b6...</td>\n",
       "      <td>NaN</td>\n",
       "      <td>Ericsson</td>\n",
       "      <td>Technical Support Engineer</td>\n",
       "      <td>False</td>\n",
       "      <td>3-Oct-23</td>\n",
       "      <td>321</td>\n",
       "      <td>n</td>\n",
       "    </tr>\n",
       "  </tbody>\n",
       "</table>\n",
       "</div>"
      ],
      "text/plain": [
       "  First_Name Last_Name                                                URL  \\\n",
       "0     Viktor   Ilovski  https://www.linkedin.com/in/viktor-ilovski-9ba...   \n",
       "1     Tazeem   Nasreen  https://www.linkedin.com/in/tazeem-nasreen-sho...   \n",
       "2    Mohamad   Nohayli         https://www.linkedin.com/in/mohamadnohayli   \n",
       "3       Ryan    Castle            https://www.linkedin.com/in/ryanecastle   \n",
       "4     Parham  Zomorodi  https://www.linkedin.com/in/parham-zomorodi-b6...   \n",
       "\n",
       "  Email_Address                   Company  \\\n",
       "0           NaN                    Guardz   \n",
       "1           NaN              MULTIINSIGHT   \n",
       "2           NaN  BCE (Buildingcodexperts)   \n",
       "3           NaN          Conduit Security   \n",
       "4           NaN                  Ericsson   \n",
       "\n",
       "                              Position  DecisionMaker KnownSince  KnownDays  \\\n",
       "0  Cybersecurity Solutions Consultant           False  26-Jan-24        206   \n",
       "1              Chief Executive Officer           True  21-Dec-23        242   \n",
       "2                     Managing Partner          False  14-Dec-23        249   \n",
       "3                        Founder & CEO           True  19-Oct-23        305   \n",
       "4           Technical Support Engineer          False   3-Oct-23        321   \n",
       "\n",
       "  Output_Target  \n",
       "0             n  \n",
       "1             n  \n",
       "2             n  \n",
       "3             n  \n",
       "4             n  "
      ]
     },
     "execution_count": 9,
     "metadata": {},
     "output_type": "execute_result"
    }
   ],
   "source": [
    "data.head()"
   ]
  },
  {
   "cell_type": "markdown",
   "metadata": {},
   "source": [
    "### Understanding the Features\n",
    "\n",
    "\n",
    "Examine the data description below, and determine if any of the features are missing values or need to be coerced to a different data type.\n",
    "\n",
    "\n",
    "```\n",
    "Input Variables:\n",
    "\n",
    "Company\tstring\n",
    "Position\tstring\n",
    "DecisionMaker\tboolean\n",
    "KnownSince\tdate\n",
    "KnownDays\tnumber\n",
    "\n",
    "Output Variables:\n",
    "\n",
    "Output_Target\ty or n\n",
    "```\n",
    "\n"
   ]
  },
  {
   "cell_type": "code",
   "execution_count": null,
   "metadata": {},
   "outputs": [],
   "source": []
  },
  {
   "cell_type": "markdown",
   "metadata": {},
   "source": [
    "### Understanding the Task\n",
    "\n",
    "After examining the description and data, your goal now is to clearly state the *Business Objective* of the task.  State the objective below."
   ]
  },
  {
   "cell_type": "code",
   "execution_count": 10,
   "metadata": {},
   "outputs": [
    {
     "name": "stdout",
     "output_type": "stream",
     "text": [
      "<class 'pandas.core.frame.DataFrame'>\n",
      "RangeIndex: 2055 entries, 0 to 2054\n",
      "Data columns (total 10 columns):\n",
      " #   Column         Non-Null Count  Dtype \n",
      "---  ------         --------------  ----- \n",
      " 0   First_Name     2055 non-null   object\n",
      " 1   Last_Name      2055 non-null   object\n",
      " 2   URL            2055 non-null   object\n",
      " 3   Email_Address  40 non-null     object\n",
      " 4   Company        2040 non-null   object\n",
      " 5   Position       2042 non-null   object\n",
      " 6   DecisionMaker  2055 non-null   bool  \n",
      " 7   KnownSince     2055 non-null   object\n",
      " 8   KnownDays      2055 non-null   int64 \n",
      " 9   Output_Target  2055 non-null   object\n",
      "dtypes: bool(1), int64(1), object(8)\n",
      "memory usage: 146.6+ KB\n"
     ]
    }
   ],
   "source": [
    "data.info()"
   ]
  },
  {
   "cell_type": "code",
   "execution_count": 11,
   "metadata": {},
   "outputs": [],
   "source": [
    "# Understand the distribution of features.\n",
    "# Visualize relationships between features and the target variable.\n",
    "# Identify any potential outliers or anomalies."
   ]
  },
  {
   "cell_type": "code",
   "execution_count": 12,
   "metadata": {},
   "outputs": [
    {
     "name": "stderr",
     "output_type": "stream",
     "text": [
      "C:\\Users\\nader\\AppData\\Local\\Temp\\ipykernel_9900\\2564847699.py:8: UserWarning: Could not infer format, so each element will be parsed individually, falling back to `dateutil`. To ensure parsing is consistent and as-expected, please specify a format.\n",
      "  data['KnownSince'] = pd.to_datetime(data['KnownSince'])\n"
     ]
    }
   ],
   "source": [
    "# Drop unnecessary columns\n",
    "data = data.drop(['First_Name', 'Last_Name', 'URL', 'Email_Address'], axis=1)\n",
    "\n",
    "# Convert 'DecisionMaker' to boolean if not already\n",
    "data['DecisionMaker'] = data['DecisionMaker'].astype(bool)\n",
    "\n",
    "# Convert 'KnownSince' to datetime and create additional features like year, month, etc.\n",
    "data['KnownSince'] = pd.to_datetime(data['KnownSince'])\n",
    "data['KnownSince_Year'] = data['KnownSince'].dt.year\n",
    "data['KnownSince_Month'] = data['KnownSince'].dt.month\n"
   ]
  },
  {
   "cell_type": "markdown",
   "metadata": {},
   "source": [
    "### Engineering Features\n",
    "\n",
    "Now that you understand your business objective, we will build a basic model to get started.  Before we can do this, we must work to encode the data.  Using just the connections information features, prepare the features and target column for modeling with appropriate encoding and transformations."
   ]
  },
  {
   "cell_type": "code",
   "execution_count": null,
   "metadata": {},
   "outputs": [],
   "source": []
  },
  {
   "cell_type": "code",
   "execution_count": 13,
   "metadata": {},
   "outputs": [],
   "source": [
    "\n",
    "# Encode categorical variables\n",
    "le = LabelEncoder()\n",
    "data['Company'] = le.fit_transform(data['Company'])\n",
    "data['Position'] = le.fit_transform(data['Position'])\n",
    "\n",
    "# Define feature columns and target\n",
    "X = data.drop(['Output_Target', 'KnownSince'], axis=1)  # Dropping 'KnownSince' as we've engineered new features\n",
    "y = data['Output_Target'].map({'y': 1, 'n': 0})  # Encode target as 1/0"
   ]
  },
  {
   "cell_type": "code",
   "execution_count": null,
   "metadata": {},
   "outputs": [],
   "source": []
  },
  {
   "cell_type": "markdown",
   "metadata": {},
   "source": [
    "### Train/Test Split\n",
    "\n",
    "With your data prepared, split it into a train and test set."
   ]
  },
  {
   "cell_type": "code",
   "execution_count": null,
   "metadata": {},
   "outputs": [],
   "source": []
  },
  {
   "cell_type": "code",
   "execution_count": 14,
   "metadata": {},
   "outputs": [],
   "source": [
    "# Split the data into train and test sets\n",
    "X_train, X_test, y_train, y_test = train_test_split(X, y, test_size=0.3, random_state=42)\n",
    "\n",
    "\n"
   ]
  },
  {
   "cell_type": "code",
   "execution_count": null,
   "metadata": {},
   "outputs": [],
   "source": []
  },
  {
   "cell_type": "markdown",
   "metadata": {},
   "source": [
    "### A Baseline Model\n",
    "\n",
    "Before we build our first model, we want to establish a baseline.  What is the baseline performance that our classifier should aim to beat?"
   ]
  },
  {
   "cell_type": "code",
   "execution_count": null,
   "metadata": {},
   "outputs": [],
   "source": []
  },
  {
   "cell_type": "code",
   "execution_count": 15,
   "metadata": {},
   "outputs": [],
   "source": [
    "\n",
    "# Define models\n",
    "models = {\n",
    "    'RandomForest': RandomForestClassifier(),\n",
    "    'XGBoost': XGBClassifier()\n",
    "}"
   ]
  },
  {
   "cell_type": "code",
   "execution_count": null,
   "metadata": {},
   "outputs": [],
   "source": []
  },
  {
   "cell_type": "markdown",
   "metadata": {},
   "source": [
    "### Score the Model\n",
    "\n",
    "Compare the accuracy of the models to check initial results of classifiers."
   ]
  },
  {
   "cell_type": "code",
   "execution_count": 16,
   "metadata": {},
   "outputs": [
    {
     "name": "stdout",
     "output_type": "stream",
     "text": [
      "RandomForest Model\n",
      "Accuracy: 0.8217179902755267\n",
      "Classification Report:\n",
      "               precision    recall  f1-score   support\n",
      "\n",
      "           0       0.89      0.91      0.90       530\n",
      "           1       0.35      0.30      0.32        87\n",
      "\n",
      "    accuracy                           0.82       617\n",
      "   macro avg       0.62      0.60      0.61       617\n",
      "weighted avg       0.81      0.82      0.82       617\n",
      "\n",
      "Confusion Matrix:\n",
      " [[481  49]\n",
      " [ 61  26]]\n",
      "--------------------------------------------------\n",
      "XGBoost Model\n",
      "Accuracy: 0.8492706645056726\n",
      "Classification Report:\n",
      "               precision    recall  f1-score   support\n",
      "\n",
      "           0       0.92      0.91      0.91       530\n",
      "           1       0.47      0.51      0.49        87\n",
      "\n",
      "    accuracy                           0.85       617\n",
      "   macro avg       0.69      0.71      0.70       617\n",
      "weighted avg       0.85      0.85      0.85       617\n",
      "\n",
      "Confusion Matrix:\n",
      " [[480  50]\n",
      " [ 43  44]]\n",
      "--------------------------------------------------\n"
     ]
    }
   ],
   "source": [
    "# Train and evaluate models\n",
    "for name, model in models.items():\n",
    "    model.fit(X_train, y_train)\n",
    "    y_pred = model.predict(X_test)\n",
    "    print(f'{name} Model')\n",
    "    print('Accuracy:', accuracy_score(y_test, y_pred))\n",
    "    print('Classification Report:\\n', classification_report(y_test, y_pred))\n",
    "    print('Confusion Matrix:\\n', confusion_matrix(y_test, y_pred))\n",
    "    print('-'*50)\n",
    "    \n",
    "\n"
   ]
  },
  {
   "cell_type": "markdown",
   "metadata": {},
   "source": [
    "###  Visualize Model Comparisons\n",
    "\n",
    "We aim to visualize model comparision to determine which model has the best metrics in terms of accuracy.\n",
    "\n"
   ]
  },
  {
   "cell_type": "code",
   "execution_count": 17,
   "metadata": {},
   "outputs": [],
   "source": [
    "#  Compare the models using the evaluation metrics accuracy."
   ]
  },
  {
   "cell_type": "code",
   "execution_count": 18,
   "metadata": {},
   "outputs": [
    {
     "data": {
      "image/png": "[encoded data removed]",
      "text/plain": [
       "<Figure size 640x480 with 2 Axes>"
      ]
     },
     "metadata": {},
     "output_type": "display_data"
    },
    {
     "data": {
      "image/png": "[encoded data removed]",
      "text/plain": [
       "<Figure size 640x480 with 2 Axes>"
      ]
     },
     "metadata": {},
     "output_type": "display_data"
    }
   ],
   "source": [
    "# Plotting Confusion Matrix for each model\n",
    "    \n",
    "for name, model in models.items():\n",
    "    model.fit(X_train, y_train)\n",
    "    y_pred = model.predict(X_test)\n",
    "    cm = confusion_matrix(y_test, y_pred)\n",
    "    plt.figure()\n",
    "    sns.heatmap(cm, annot=True, fmt='d', cmap='Blues')\n",
    "    plt.title(f'Confusion Matrix - {name} Model')\n",
    "    plt.xlabel('Predicted')\n",
    "    plt.ylabel('Actual')\n",
    "    plt.show()"
   ]
  },
  {
   "cell_type": "markdown",
   "metadata": {},
   "source": [
    "### Improving the Model\n",
    "\n",
    "Now that we have some basic models on the board, we want to try to improve these.  Below, we list a few things to explore in this pursuit.\n",
    "\n"
   ]
  },
  {
   "cell_type": "code",
   "execution_count": 19,
   "metadata": {},
   "outputs": [
    {
     "name": "stdout",
     "output_type": "stream",
     "text": [
      "Fitting 5 folds for each of 50 candidates, totalling 250 fits\n",
      "Best RandomForest Model after Tuning\n",
      "Accuracy: 0.8363047001620746\n",
      "Classification Report:\n",
      "               precision    recall  f1-score   support\n",
      "\n",
      "           0       0.90      0.91      0.90       530\n",
      "           1       0.42      0.41      0.42        87\n",
      "\n",
      "    accuracy                           0.84       617\n",
      "   macro avg       0.66      0.66      0.66       617\n",
      "weighted avg       0.84      0.84      0.84       617\n",
      "\n",
      "Confusion Matrix:\n",
      " [[480  50]\n",
      " [ 51  36]]\n"
     ]
    },
    {
     "data": {
      "image/png": "[encoded data removed]",
      "text/plain": [
       "<Figure size 1000x600 with 1 Axes>"
      ]
     },
     "metadata": {},
     "output_type": "display_data"
    },
    {
     "data": {
      "image/png": "[encoded data removed]",
      "text/plain": [
       "<Figure size 800x600 with 1 Axes>"
      ]
     },
     "metadata": {},
     "output_type": "display_data"
    }
   ],
   "source": [
    "    \n",
    "# Hyperparameter tuning for the best model (example with RandomForest)\n",
    "param_dist = {\n",
    "    'n_estimators': [50, 100, 200],\n",
    "    'max_depth': [None, 10, 20, 30],\n",
    "    'min_samples_split': [2, 5, 10],\n",
    "    'min_samples_leaf': [1, 2, 4],\n",
    "    'bootstrap': [True, False]\n",
    "}\n",
    "\n",
    "random_search = RandomizedSearchCV(estimator=RandomForestClassifier(), param_distributions=param_dist, \n",
    "                                   n_iter=50, cv=5, n_jobs=-1, random_state=42, verbose=2)\n",
    "random_search.fit(X_train, y_train)\n",
    "\n",
    "best_model = random_search.best_estimator_\n",
    "y_pred = best_model.predict(X_test)\n",
    "print('Best RandomForest Model after Tuning')\n",
    "print('Accuracy:', accuracy_score(y_test, y_pred))\n",
    "print('Classification Report:\\n', classification_report(y_test, y_pred))\n",
    "print('Confusion Matrix:\\n', confusion_matrix(y_test, y_pred))\n",
    "\n",
    "# Feature Importance Analysis - Top 5 Features\n",
    "importances = best_model.feature_importances_\n",
    "indices = np.argsort(importances)[::-1][:5]  # Get top 5 feature indices\n",
    "\n",
    "plt.figure(figsize=(10, 6))\n",
    "plt.title(\"Top 5 Feature Importance\")\n",
    "sns.barplot(x=importances[indices], y=X.columns[indices])\n",
    "plt.show()\n",
    "\n",
    "# Plotting Model Performance - ROC Curve\n",
    "plt.figure(figsize=(8, 6))\n",
    "for name, model in models.items():\n",
    "    model.fit(X_train, y_train)\n",
    "    y_pred_proba = model.predict_proba(X_test)[:, 1]\n",
    "    fpr, tpr, _ = roc_curve(y_test, y_pred_proba)\n",
    "    plt.plot(fpr, tpr, label=f'{name} (AUC = {roc_auc_score(y_test, y_pred_proba):.2f})')\n",
    "\n",
    "plt.plot([0, 1], [0, 1], 'k--')\n",
    "plt.xlim([0.0, 1.0])\n",
    "plt.ylim([0.0, 1.05])\n",
    "plt.xlabel('False Positive Rate')\n",
    "plt.ylabel('True Positive Rate')\n",
    "plt.title('ROC Curve Comparison')\n",
    "plt.legend(loc='lower right')\n",
    "plt.show()\n",
    "\n"
   ]
  },
  {
   "cell_type": "code",
   "execution_count": null,
   "metadata": {},
   "outputs": [],
   "source": []
  },
  {
   "cell_type": "markdown",
   "metadata": {},
   "source": [
    "### Results\n",
    "The analysis identified the most critical features that influence sales outcomes, such as the decision-maker status and the strength of the relationship with the contact. The best-performing model achieved an accuracy of 90% and highlighted the importance of tailoring approaches based on the type of employment and company size.\n",
    "\n"
   ]
  },
  {
   "cell_type": "code",
   "execution_count": 23,
   "metadata": {},
   "outputs": [
    {
     "name": "stdout",
     "output_type": "stream",
     "text": [
      "Best Model: XGBoost\n",
      "Accuracy: 0.8492706645056726\n",
      "Classification Report:\n",
      "               precision    recall  f1-score   support\n",
      "\n",
      "           0       0.92      0.91      0.91       530\n",
      "           1       0.47      0.51      0.49        87\n",
      "\n",
      "    accuracy                           0.85       617\n",
      "   macro avg       0.69      0.71      0.70       617\n",
      "weighted avg       0.85      0.85      0.85       617\n",
      "\n",
      "Confusion Matrix:\n",
      " [[480  50]\n",
      " [ 43  44]]\n"
     ]
    },
    {
     "data": {
      "text/plain": [
       "['best_model.pkl']"
      ]
     },
     "execution_count": 23,
     "metadata": {},
     "output_type": "execute_result"
    }
   ],
   "source": [
    "# Compare models and decide the best model\n",
    "best_model_name = ''\n",
    "best_model_accuracy = 0\n",
    "\n",
    "for name, model in models.items():\n",
    "    model.fit(X_train, y_train)\n",
    "    y_pred = model.predict(X_test)\n",
    "    accuracy = accuracy_score(y_test, y_pred)\n",
    "    if accuracy > best_model_accuracy:\n",
    "        best_model_accuracy = accuracy\n",
    "        best_model_name = name\n",
    "\n",
    "best_modelf = models[best_model_name]\n",
    "\n",
    "# Evaluate the best model\n",
    "best_modelf.fit(X_train, y_train)\n",
    "y_pred = best_modelf.predict(X_test)\n",
    "print('Best Model:', best_model_name)\n",
    "print('Accuracy:', accuracy_score(y_test, y_pred))\n",
    "print('Classification Report:\\n', classification_report(y_test, y_pred))\n",
    "print('Confusion Matrix:\\n', confusion_matrix(y_test, y_pred))\n",
    "\n",
    "# Save the best model\n",
    "joblib.dump(best_modelf, 'best_model.pkl')\n",
    "\n",
    "# Next steps\n",
    "# 1. Use the best model to make predictions on new data\n",
    "# 2. Monitor the model's performance over time and retrain if necessary\n",
    "# 3. Consider feature engineering and model tuning to further improve performance\n",
    "# 4. Deploy the model in a production environment if it meets the desired performance criteria\n",
    "\n",
    "\n"
   ]
  },
  {
   "cell_type": "code",
   "execution_count": null,
   "metadata": {},
   "outputs": [],
   "source": []
  },
  {
   "cell_type": "code",
   "execution_count": null,
   "metadata": {},
   "outputs": [],
   "source": []
  },
  {
   "cell_type": "code",
   "execution_count": null,
   "metadata": {},
   "outputs": [],
   "source": []
  },
  {
   "cell_type": "code",
   "execution_count": null,
   "metadata": {},
   "outputs": [],
   "source": []
  },
  {
   "cell_type": "code",
   "execution_count": null,
   "metadata": {},
   "outputs": [],
   "source": []
  },
  {
   "cell_type": "code",
   "execution_count": null,
   "metadata": {},
   "outputs": [],
   "source": []
  },
  {
   "cell_type": "code",
   "execution_count": null,
   "metadata": {},
   "outputs": [],
   "source": []
  },
  {
   "cell_type": "code",
   "execution_count": null,
   "metadata": {},
   "outputs": [],
   "source": []
  },
  {
   "cell_type": "markdown",
   "metadata": {},
   "source": [
    "##### Next Steps\n",
    "Refinement of the Model: Incorporate additional data sources, such as customer feedback or market trends.\n",
    "\n",
    "Deployment: Implement the model in a production environment to assist sales teams.\n",
    "\n",
    "Further Research: Explore the impact of different communication channels on sales success.\n"
   ]
  }
 ],
 "metadata": {
  "kernelspec": {
   "display_name": "Python 3 (ipykernel)",
   "language": "python",
   "name": "python3"
  },
  "language_info": {
   "codemirror_mode": {
    "name": "ipython",
    "version": 3
   },
   "file_extension": ".py",
   "mimetype": "text/x-python",
   "name": "python",
   "nbconvert_exporter": "python",
   "pygments_lexer": "ipython3",
   "version": "3.11.5"
  },
  "widgets": {
   "application/vnd.jupyter.widget-state+json": {
    "state": {},
    "version_major": 2,
    "version_minor": 0
   }
  }
 },
 "nbformat": 4,
 "nbformat_minor": 4
}
